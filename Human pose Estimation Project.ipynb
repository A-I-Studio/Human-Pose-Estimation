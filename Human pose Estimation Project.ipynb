{
 "cells": [
  {
   "cell_type": "code",
   "execution_count": null,
   "id": "92c61e79",
   "metadata": {},
   "outputs": [],
   "source": [
    "import os"
   ]
  },
  {
   "cell_type": "code",
   "execution_count": null,
   "id": "5f795774",
   "metadata": {},
   "outputs": [],
   "source": [
    "import cv2"
   ]
  },
  {
   "cell_type": "code",
   "execution_count": null,
   "id": "f438a61a",
   "metadata": {},
   "outputs": [],
   "source": [
    "import mediapipe as mp"
   ]
  },
  {
   "cell_type": "code",
   "execution_count": null,
   "id": "db9b7de5",
   "metadata": {},
   "outputs": [],
   "source": [
    "import time"
   ]
  },
  {
   "cell_type": "code",
   "execution_count": null,
   "id": "f920a028",
   "metadata": {},
   "outputs": [],
   "source": [
    "mpDraw = mp.solutions.drawing_utils"
   ]
  },
  {
   "cell_type": "code",
   "execution_count": null,
   "id": "e12f5165",
   "metadata": {},
   "outputs": [],
   "source": [
    "mpPose = mp.solutions.pose"
   ]
  },
  {
   "cell_type": "code",
   "execution_count": null,
   "id": "9efecc69",
   "metadata": {},
   "outputs": [],
   "source": [
    "pose = mpPose.Pose()"
   ]
  },
  {
   "cell_type": "code",
   "execution_count": null,
   "id": "42b03129",
   "metadata": {},
   "outputs": [],
   "source": [
    "cap = cv2.VideoCapture(r\"C:\\Users\\mwaqa\\Desktop\\Human Pose Data\\video data.mp4\")"
   ]
  },
  {
   "cell_type": "code",
   "execution_count": null,
   "id": "c813d374",
   "metadata": {},
   "outputs": [],
   "source": [
    "ptime = 0"
   ]
  },
  {
   "cell_type": "code",
   "execution_count": null,
   "id": "1352b5e1",
   "metadata": {},
   "outputs": [],
   "source": [
    "pTime = 0\n",
    "while True:\n",
    "    success, img = cap.read()\n",
    "    imgRGB = cv2.cvtColor(img,cv2.COLOR_BGR2RGB)\n",
    "    results = pose.process(imgRGB)\n",
    "    #print(results.pose_landmarks)\n",
    "    if results.pose_landmarks:\n",
    "        mpDraw.draw_landmarks(img,results.pose_landmarks,mpPose.POSE_CONNECTIONS)\n",
    "        for id,lm in enumerate(results.pose_landmarks.landmark):\n",
    "            h, w, c = img.shape\n",
    "            print(id,lm)\n",
    "            cx,cy = int(lm.x * w),int(lm.y * h)\n",
    "            cv2.circle(img,(cx,cy),2,(255,0,0),cv2.FILLED)  \n",
    "    \n",
    "    cTime = time.time()\n",
    "    fps = 1 / (cTime-pTime)\n",
    "    pTime = cTime\n",
    "    cv2.putText(img, str(int(fps)),(70,50),cv2.FONT_HERSHEY_PLAIN,3,(255,0,0),3)\n",
    "    cv2.imshow(\"Image\",img)\n",
    "    cv2.waitKey(1)"
   ]
  },
  {
   "cell_type": "code",
   "execution_count": null,
   "id": "71bd4fd6",
   "metadata": {},
   "outputs": [],
   "source": []
  }
 ],
 "metadata": {
  "kernelspec": {
   "display_name": "Python 3 (ipykernel)",
   "language": "python",
   "name": "python3"
  },
  "language_info": {
   "codemirror_mode": {
    "name": "ipython",
    "version": 3
   },
   "file_extension": ".py",
   "mimetype": "text/x-python",
   "name": "python",
   "nbconvert_exporter": "python",
   "pygments_lexer": "ipython3",
   "version": "3.9.13"
  }
 },
 "nbformat": 4,
 "nbformat_minor": 5
}
